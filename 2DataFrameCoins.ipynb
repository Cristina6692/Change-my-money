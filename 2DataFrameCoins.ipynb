{
 "cells": [
  {
   "cell_type": "code",
   "execution_count": 1,
   "metadata": {},
   "outputs": [],
   "source": [
    "from src.imgModifier import *\n",
    "import numpy as np\n",
    "import pandas as pd\n",
    "import matplotlib.pyplot as plt\n",
    "from scipy import ndimage\n",
    "from PIL import Image\n",
    "import scipy.signal\n",
    "import glob\n",
    "import pickle\n",
    "import cv2\n",
    "import os"
   ]
  },
  {
   "cell_type": "markdown",
   "metadata": {},
   "source": [
    "## Creamos el dataframe con las imagenes, labels, y paths "
   ]
  },
  {
   "cell_type": "code",
   "execution_count": 27,
   "metadata": {},
   "outputs": [],
   "source": [
    "labels_t = ['10c','50c','20c','5c','2c','1e','1c','2e']\n",
    "origin_path = \"./Inputs/coins\""
   ]
  },
  {
   "cell_type": "code",
   "execution_count": 28,
   "metadata": {},
   "outputs": [],
   "source": [
    "imagenes,img_label,img_path = readImages(origin_path,labels_t)"
   ]
  },
  {
   "cell_type": "code",
   "execution_count": 29,
   "metadata": {},
   "outputs": [
    {
     "name": "stdout",
     "output_type": "stream",
     "text": [
      "(2200, 3)\n"
     ]
    },
    {
     "data": {
      "text/html": [
       "<div>\n",
       "<style scoped>\n",
       "    .dataframe tbody tr th:only-of-type {\n",
       "        vertical-align: middle;\n",
       "    }\n",
       "\n",
       "    .dataframe tbody tr th {\n",
       "        vertical-align: top;\n",
       "    }\n",
       "\n",
       "    .dataframe thead th {\n",
       "        text-align: right;\n",
       "    }\n",
       "</style>\n",
       "<table border=\"1\" class=\"dataframe\">\n",
       "  <thead>\n",
       "    <tr style=\"text-align: right;\">\n",
       "      <th></th>\n",
       "      <th>label</th>\n",
       "      <th>image</th>\n",
       "      <th>path</th>\n",
       "    </tr>\n",
       "  </thead>\n",
       "  <tbody>\n",
       "    <tr>\n",
       "      <th>0</th>\n",
       "      <td>10c</td>\n",
       "      <td>[[[19, 68, 100], [52, 111, 143], [150, 220, 25...</td>\n",
       "      <td>Inputs/coins/10c/train_21_56.jpg</td>\n",
       "    </tr>\n",
       "    <tr>\n",
       "      <th>1</th>\n",
       "      <td>10c</td>\n",
       "      <td>[[[221, 223, 223], [221, 223, 223], [221, 223,...</td>\n",
       "      <td>Inputs/coins/10c/test_18_24.jpg</td>\n",
       "    </tr>\n",
       "    <tr>\n",
       "      <th>2</th>\n",
       "      <td>10c</td>\n",
       "      <td>[[[65, 97, 132], [51, 83, 118], [43, 74, 107],...</td>\n",
       "      <td>Inputs/coins/10c/IMG_4207_17.jpg</td>\n",
       "    </tr>\n",
       "    <tr>\n",
       "      <th>3</th>\n",
       "      <td>10c</td>\n",
       "      <td>[[[1, 6, 27], [0, 7, 27], [2, 7, 32], [4, 13, ...</td>\n",
       "      <td>Inputs/coins/10c/IMG_4187_42.jpg</td>\n",
       "    </tr>\n",
       "    <tr>\n",
       "      <th>4</th>\n",
       "      <td>10c</td>\n",
       "      <td>[[[190, 192, 192], [191, 193, 193], [192, 194,...</td>\n",
       "      <td>Inputs/coins/10c/train_8_4.jpg</td>\n",
       "    </tr>\n",
       "  </tbody>\n",
       "</table>\n",
       "</div>"
      ],
      "text/plain": [
       "  label                                              image  \\\n",
       "0   10c  [[[19, 68, 100], [52, 111, 143], [150, 220, 25...   \n",
       "1   10c  [[[221, 223, 223], [221, 223, 223], [221, 223,...   \n",
       "2   10c  [[[65, 97, 132], [51, 83, 118], [43, 74, 107],...   \n",
       "3   10c  [[[1, 6, 27], [0, 7, 27], [2, 7, 32], [4, 13, ...   \n",
       "4   10c  [[[190, 192, 192], [191, 193, 193], [192, 194,...   \n",
       "\n",
       "                               path  \n",
       "0  Inputs/coins/10c/train_21_56.jpg  \n",
       "1   Inputs/coins/10c/test_18_24.jpg  \n",
       "2  Inputs/coins/10c/IMG_4207_17.jpg  \n",
       "3  Inputs/coins/10c/IMG_4187_42.jpg  \n",
       "4    Inputs/coins/10c/train_8_4.jpg  "
      ]
     },
     "execution_count": 29,
     "metadata": {},
     "output_type": "execute_result"
    }
   ],
   "source": [
    "coins_original = pd.DataFrame(list(zip(img_label, imagenes, img_path)), columns =['label', 'image', 'path'])\n",
    "print(coins_original.shape)\n",
    "coins_original.head()"
   ]
  },
  {
   "cell_type": "code",
   "execution_count": 30,
   "metadata": {},
   "outputs": [
    {
     "name": "stdout",
     "output_type": "stream",
     "text": [
      "['10c' '50c' '20c' '5c' '2c' '1e' '1c' '2e']\n",
      "(2200, 3)\n",
      "1e     467\n",
      "5c     364\n",
      "2e     344\n",
      "10c    307\n",
      "20c    272\n",
      "2c     163\n",
      "1c     155\n",
      "50c    128\n",
      "Name: label, dtype: int64\n"
     ]
    }
   ],
   "source": [
    "print(coins_original['label'].unique())\n",
    "print(coins_original.shape)\n",
    "print(coins_original['label'].value_counts())"
   ]
  },
  {
   "cell_type": "markdown",
   "metadata": {},
   "source": [
    "## Creamos segundo df con los arrays (aplicando el resize (70x70) y haciendo np.stack(img)/255) de las imagenes y sus labels "
   ]
  },
  {
   "cell_type": "code",
   "execution_count": 31,
   "metadata": {},
   "outputs": [],
   "source": [
    "coins = pd.DataFrame()"
   ]
  },
  {
   "cell_type": "code",
   "execution_count": null,
   "metadata": {},
   "outputs": [],
   "source": [
    "coins['image'] = coins_original['image'].apply(transfImg)"
   ]
  },
  {
   "cell_type": "code",
   "execution_count": 33,
   "metadata": {},
   "outputs": [],
   "source": [
    "coins = coins.join(coins_original['label'])"
   ]
  },
  {
   "cell_type": "code",
   "execution_count": 34,
   "metadata": {},
   "outputs": [
    {
     "data": {
      "text/html": [
       "<div>\n",
       "<style scoped>\n",
       "    .dataframe tbody tr th:only-of-type {\n",
       "        vertical-align: middle;\n",
       "    }\n",
       "\n",
       "    .dataframe tbody tr th {\n",
       "        vertical-align: top;\n",
       "    }\n",
       "\n",
       "    .dataframe thead th {\n",
       "        text-align: right;\n",
       "    }\n",
       "</style>\n",
       "<table border=\"1\" class=\"dataframe\">\n",
       "  <thead>\n",
       "    <tr style=\"text-align: right;\">\n",
       "      <th></th>\n",
       "      <th>image</th>\n",
       "      <th>label</th>\n",
       "    </tr>\n",
       "  </thead>\n",
       "  <tbody>\n",
       "    <tr>\n",
       "      <th>0</th>\n",
       "      <td>[[[0.10588235294117647, 0.3176470588235294, 0....</td>\n",
       "      <td>10c</td>\n",
       "    </tr>\n",
       "    <tr>\n",
       "      <th>1</th>\n",
       "      <td>[[[0.8901960784313725, 0.8980392156862745, 0.8...</td>\n",
       "      <td>10c</td>\n",
       "    </tr>\n",
       "    <tr>\n",
       "      <th>2</th>\n",
       "      <td>[[[0.23529411764705882, 0.3607843137254902, 0....</td>\n",
       "      <td>10c</td>\n",
       "    </tr>\n",
       "    <tr>\n",
       "      <th>3</th>\n",
       "      <td>[[[0.0, 0.0196078431372549, 0.1019607843137254...</td>\n",
       "      <td>10c</td>\n",
       "    </tr>\n",
       "    <tr>\n",
       "      <th>4</th>\n",
       "      <td>[[[0.7490196078431373, 0.7568627450980392, 0.7...</td>\n",
       "      <td>10c</td>\n",
       "    </tr>\n",
       "  </tbody>\n",
       "</table>\n",
       "</div>"
      ],
      "text/plain": [
       "                                               image label\n",
       "0  [[[0.10588235294117647, 0.3176470588235294, 0....   10c\n",
       "1  [[[0.8901960784313725, 0.8980392156862745, 0.8...   10c\n",
       "2  [[[0.23529411764705882, 0.3607843137254902, 0....   10c\n",
       "3  [[[0.0, 0.0196078431372549, 0.1019607843137254...   10c\n",
       "4  [[[0.7490196078431373, 0.7568627450980392, 0.7...   10c"
      ]
     },
     "metadata": {},
     "output_type": "display_data"
    },
    {
     "name": "stdout",
     "output_type": "stream",
     "text": [
      "(2200, 2)\n"
     ]
    }
   ],
   "source": [
    "display(coins.head())\n",
    "print(coins.shape)\n"
   ]
  },
  {
   "cell_type": "markdown",
   "metadata": {},
   "source": [
    "## Creamos más dfs con los arrais rotados para tener más datos  "
   ]
  },
  {
   "cell_type": "code",
   "execution_count": 9,
   "metadata": {},
   "outputs": [],
   "source": [
    "# Rota los arrays x grados\n",
    "def rotateConcat(coins_original, coins, grados):\n",
    "    coins_gr = pd.DataFrame()\n",
    "    coins_gr['image'] = coins_original['image'].apply(lambda x: rotAndTransfImg(x,grados))\n",
    "    coins_gr = coins_gr.join(coins_original['label'])\n",
    "    coins = pd.concat([coins,coins_gr])\n",
    "    print(coins.shape)\n",
    "    return coins"
   ]
  },
  {
   "cell_type": "code",
   "execution_count": 60,
   "metadata": {},
   "outputs": [
    {
     "name": "stdout",
     "output_type": "stream",
     "text": [
      "(96562, 2)\n",
      "(96690, 2)\n",
      "(96818, 2)\n",
      "(96946, 2)\n",
      "(97074, 2)\n",
      "(97202, 2)\n",
      "(97330, 2)\n",
      "(97458, 2)\n",
      "(97586, 2)\n",
      "(97714, 2)\n",
      "(97842, 2)\n",
      "(97970, 2)\n"
     ]
    }
   ],
   "source": [
    "# Al tener mas imagenes de un tipo que de otro hemos rotado mas veces algunos arrays \n",
    "for g in range(10,360,30):\n",
    "    coins_gr = pd.DataFrame()\n",
    "    coins_gr['image'] = coins_original[coins_original['label']=='50c']['image'].apply(lambda x: rotAndTransfImg(x,g))\n",
    "    coins_gr = coins_gr.join(coins_original[coins_original['label']=='50c']['label'])\n",
    "    coins = pd.concat([coins,coins_gr])\n",
    "    print(coins.shape)\n"
   ]
  },
  {
   "cell_type": "code",
   "execution_count": 61,
   "metadata": {},
   "outputs": [
    {
     "name": "stdout",
     "output_type": "stream",
     "text": [
      "['10c' '50c' '20c' '5c' '2c' '1e' '1c' '2e']\n",
      "(97970, 2)\n",
      "20c    13872\n",
      "2e     13760\n",
      "5c     13104\n",
      "10c    12894\n",
      "2c     11247\n",
      "1e     11208\n",
      "1c     11005\n",
      "50c    10880\n",
      "Name: label, dtype: int64\n"
     ]
    }
   ],
   "source": [
    "# finalmente tenemos un df con mas 10.000 'imagenes'\n",
    "print(coins['label'].unique())\n",
    "print(coins.shape)\n",
    "print(coins['label'].value_counts())"
   ]
  },
  {
   "cell_type": "code",
   "execution_count": 43,
   "metadata": {},
   "outputs": [
    {
     "data": {
      "text/plain": [
       "23"
      ]
     },
     "execution_count": 43,
     "metadata": {},
     "output_type": "execute_result"
    }
   ],
   "source": [
    "grados = [e for e in range(15,360,15)]\n",
    "len(grados)"
   ]
  },
  {
   "cell_type": "code",
   "execution_count": 42,
   "metadata": {},
   "outputs": [
    {
     "name": "stdout",
     "output_type": "stream",
     "text": [
      "(18706, 2)\n",
      "(20906, 2)\n",
      "(23106, 2)\n",
      "(25306, 2)\n",
      "(27506, 2)\n",
      "(29706, 2)\n",
      "(31906, 2)\n",
      "(34106, 2)\n",
      "(36306, 2)\n",
      "(38506, 2)\n",
      "(40706, 2)\n",
      "(42906, 2)\n",
      "(45106, 2)\n",
      "(47306, 2)\n",
      "(49506, 2)\n",
      "(51706, 2)\n",
      "(53906, 2)\n",
      "(56106, 2)\n",
      "(58306, 2)\n",
      "(60506, 2)\n",
      "(62706, 2)\n",
      "(64906, 2)\n",
      "(67106, 2)\n"
     ]
    }
   ],
   "source": [
    "# Aplicamos la fn para rotar y concatenar los arrays al df\n",
    "for grado in grados:\n",
    "    coins = rotateConcat(coins_original, coins, grado)"
   ]
  },
  {
   "cell_type": "code",
   "execution_count": 62,
   "metadata": {},
   "outputs": [],
   "source": [
    "# Comprobamos que todos los arrays sean de 70x70x3\n",
    "for im in coins['image']:\n",
    "    if im.shape != (70, 70, 3):\n",
    "        print('¡ojo!', im.shape)"
   ]
  },
  {
   "cell_type": "code",
   "execution_count": 64,
   "metadata": {},
   "outputs": [],
   "source": [
    "# Guardamos nuestro df en un archivo pickle:\n",
    "\n",
    "coins.to_pickle('./Output/coins_97970_arrays_label.pkl')  "
   ]
  },
  {
   "cell_type": "code",
   "execution_count": null,
   "metadata": {},
   "outputs": [],
   "source": []
  },
  {
   "cell_type": "code",
   "execution_count": 65,
   "metadata": {},
   "outputs": [],
   "source": [
    "coins_4lab = coins.copy()"
   ]
  },
  {
   "cell_type": "code",
   "execution_count": null,
   "metadata": {},
   "outputs": [],
   "source": []
  },
  {
   "cell_type": "code",
   "execution_count": null,
   "metadata": {},
   "outputs": [],
   "source": []
  },
  {
   "cell_type": "code",
   "execution_count": null,
   "metadata": {},
   "outputs": [],
   "source": []
  },
  {
   "cell_type": "code",
   "execution_count": null,
   "metadata": {},
   "outputs": [],
   "source": []
  },
  {
   "cell_type": "code",
   "execution_count": null,
   "metadata": {},
   "outputs": [],
   "source": []
  },
  {
   "cell_type": "code",
   "execution_count": null,
   "metadata": {},
   "outputs": [],
   "source": []
  },
  {
   "cell_type": "code",
   "execution_count": null,
   "metadata": {},
   "outputs": [],
   "source": []
  },
  {
   "cell_type": "code",
   "execution_count": null,
   "metadata": {},
   "outputs": [],
   "source": []
  }
 ],
 "metadata": {
  "kernelspec": {
   "display_name": "Python 3",
   "language": "python",
   "name": "python3"
  },
  "language_info": {
   "codemirror_mode": {
    "name": "ipython",
    "version": 3
   },
   "file_extension": ".py",
   "mimetype": "text/x-python",
   "name": "python",
   "nbconvert_exporter": "python",
   "pygments_lexer": "ipython3",
   "version": "3.7.6"
  }
 },
 "nbformat": 4,
 "nbformat_minor": 4
}
