{
 "cells": [
  {
   "cell_type": "code",
   "execution_count": 1,
   "metadata": {},
   "outputs": [],
   "source": [
    "from src.imgModifier import *\n",
    "import numpy as np\n",
    "import pandas as pd\n",
    "import matplotlib.pyplot as plt\n",
    "from scipy import ndimage\n",
    "from PIL import Image\n",
    "import scipy.signal\n",
    "import glob\n",
    "import pickle\n",
    "import cv2\n",
    "import os"
   ]
  },
  {
   "cell_type": "markdown",
   "metadata": {},
   "source": [
    "### Pasamos videos a frames"
   ]
  },
  {
   "cell_type": "markdown",
   "metadata": {},
   "source": [
    "- Para aumentar el numero imagenes convertimos videos de monedas a frames con la fn: videoToFrames(path)"
   ]
  },
  {
   "cell_type": "code",
   "execution_count": 2,
   "metadata": {},
   "outputs": [
    {
     "data": {
      "text/plain": [
       "\"\\nEj:\\n\\nvideoToFrames('./Inputs/dataset_master/videos_2e/*.mp4')\\n\\n\""
      ]
     },
     "execution_count": 2,
     "metadata": {},
     "output_type": "execute_result"
    }
   ],
   "source": [
    "'''\n",
    "Ej:\n",
    "\n",
    "videoToFrames('./Inputs/dataset_master/videos_2e/*.mp4')\n",
    "\n",
    "'''"
   ]
  },
  {
   "cell_type": "markdown",
   "metadata": {},
   "source": [
    "## Creamos el dataframe con las imagenes, labels, y paths originales"
   ]
  },
  {
   "cell_type": "code",
   "execution_count": 3,
   "metadata": {},
   "outputs": [],
   "source": [
    "labels_t = ['10c','50c','20c','5c','2c','1e','1c','2e']\n",
    "origin_path = \"./Inputs/coins\""
   ]
  },
  {
   "cell_type": "code",
   "execution_count": 4,
   "metadata": {},
   "outputs": [],
   "source": [
    "imagenes,img_label,img_path = readImages(origin_path,labels_t)"
   ]
  },
  {
   "cell_type": "code",
   "execution_count": 5,
   "metadata": {},
   "outputs": [
    {
     "name": "stdout",
     "output_type": "stream",
     "text": [
      "(2860, 3)\n"
     ]
    },
    {
     "data": {
      "text/html": [
       "<div>\n",
       "<style scoped>\n",
       "    .dataframe tbody tr th:only-of-type {\n",
       "        vertical-align: middle;\n",
       "    }\n",
       "\n",
       "    .dataframe tbody tr th {\n",
       "        vertical-align: top;\n",
       "    }\n",
       "\n",
       "    .dataframe thead th {\n",
       "        text-align: right;\n",
       "    }\n",
       "</style>\n",
       "<table border=\"1\" class=\"dataframe\">\n",
       "  <thead>\n",
       "    <tr style=\"text-align: right;\">\n",
       "      <th></th>\n",
       "      <th>label</th>\n",
       "      <th>image</th>\n",
       "      <th>path</th>\n",
       "    </tr>\n",
       "  </thead>\n",
       "  <tbody>\n",
       "    <tr>\n",
       "      <th>0</th>\n",
       "      <td>10c</td>\n",
       "      <td>[[[19, 68, 100], [52, 111, 143], [150, 220, 25...</td>\n",
       "      <td>Inputs/coins/10c/train_21_56.jpg</td>\n",
       "    </tr>\n",
       "    <tr>\n",
       "      <th>1</th>\n",
       "      <td>10c</td>\n",
       "      <td>[[[221, 223, 223], [221, 223, 223], [221, 223,...</td>\n",
       "      <td>Inputs/coins/10c/test_18_24.jpg</td>\n",
       "    </tr>\n",
       "    <tr>\n",
       "      <th>2</th>\n",
       "      <td>10c</td>\n",
       "      <td>[[[65, 81, 104], [47, 63, 86], [34, 50, 73], [...</td>\n",
       "      <td>Inputs/coins/10c/IMG_4187_22copia.jpg</td>\n",
       "    </tr>\n",
       "    <tr>\n",
       "      <th>3</th>\n",
       "      <td>10c</td>\n",
       "      <td>[[[65, 97, 132], [51, 83, 118], [43, 74, 107],...</td>\n",
       "      <td>Inputs/coins/10c/IMG_4207_17.jpg</td>\n",
       "    </tr>\n",
       "    <tr>\n",
       "      <th>4</th>\n",
       "      <td>10c</td>\n",
       "      <td>[[[68, 75, 130], [60, 70, 124], [66, 75, 132],...</td>\n",
       "      <td>Inputs/coins/10c/IMG_4187_23copia.jpg</td>\n",
       "    </tr>\n",
       "  </tbody>\n",
       "</table>\n",
       "</div>"
      ],
      "text/plain": [
       "  label                                              image  \\\n",
       "0   10c  [[[19, 68, 100], [52, 111, 143], [150, 220, 25...   \n",
       "1   10c  [[[221, 223, 223], [221, 223, 223], [221, 223,...   \n",
       "2   10c  [[[65, 81, 104], [47, 63, 86], [34, 50, 73], [...   \n",
       "3   10c  [[[65, 97, 132], [51, 83, 118], [43, 74, 107],...   \n",
       "4   10c  [[[68, 75, 130], [60, 70, 124], [66, 75, 132],...   \n",
       "\n",
       "                                    path  \n",
       "0       Inputs/coins/10c/train_21_56.jpg  \n",
       "1        Inputs/coins/10c/test_18_24.jpg  \n",
       "2  Inputs/coins/10c/IMG_4187_22copia.jpg  \n",
       "3       Inputs/coins/10c/IMG_4207_17.jpg  \n",
       "4  Inputs/coins/10c/IMG_4187_23copia.jpg  "
      ]
     },
     "execution_count": 5,
     "metadata": {},
     "output_type": "execute_result"
    }
   ],
   "source": [
    "coins_original = pd.DataFrame(list(zip(img_label, imagenes, img_path)), columns =['label', 'image', 'path'])\n",
    "print(coins_original.shape)\n",
    "coins_original.head()\n"
   ]
  },
  {
   "cell_type": "code",
   "execution_count": 6,
   "metadata": {},
   "outputs": [
    {
     "data": {
      "text/plain": [
       "(150, 150, 3)"
      ]
     },
     "execution_count": 6,
     "metadata": {},
     "output_type": "execute_result"
    }
   ],
   "source": [
    "coins_original['image'].iloc[0].shape"
   ]
  },
  {
   "cell_type": "code",
   "execution_count": 7,
   "metadata": {},
   "outputs": [
    {
     "name": "stdout",
     "output_type": "stream",
     "text": [
      "['10c' '50c' '20c' '5c' '2c' '1e' '1c' '2e']\n",
      "(2860, 3)\n",
      "5c     385\n",
      "1c     382\n",
      "2c     378\n",
      "50c    355\n",
      "2e     344\n",
      "10c    343\n",
      "20c    342\n",
      "1e     331\n",
      "Name: label, dtype: int64\n"
     ]
    }
   ],
   "source": [
    "print(coins_original['label'].unique())\n",
    "print(coins_original.shape)\n",
    "print(coins_original['label'].value_counts())"
   ]
  },
  {
   "cell_type": "markdown",
   "metadata": {},
   "source": [
    "## Creamos segundo df con los arrays de las imagenes originales (aplicando el resize (70x70) ) y sus labels "
   ]
  },
  {
   "cell_type": "code",
   "execution_count": 8,
   "metadata": {},
   "outputs": [],
   "source": [
    "coins = pd.DataFrame()"
   ]
  },
  {
   "cell_type": "code",
   "execution_count": 9,
   "metadata": {},
   "outputs": [],
   "source": [
    "coins['image'] = coins_original['image'].apply(transfImg)"
   ]
  },
  {
   "cell_type": "code",
   "execution_count": 10,
   "metadata": {},
   "outputs": [],
   "source": [
    "coins = coins.join(coins_original['label'])"
   ]
  },
  {
   "cell_type": "code",
   "execution_count": 11,
   "metadata": {},
   "outputs": [
    {
     "data": {
      "text/html": [
       "<div>\n",
       "<style scoped>\n",
       "    .dataframe tbody tr th:only-of-type {\n",
       "        vertical-align: middle;\n",
       "    }\n",
       "\n",
       "    .dataframe tbody tr th {\n",
       "        vertical-align: top;\n",
       "    }\n",
       "\n",
       "    .dataframe thead th {\n",
       "        text-align: right;\n",
       "    }\n",
       "</style>\n",
       "<table border=\"1\" class=\"dataframe\">\n",
       "  <thead>\n",
       "    <tr style=\"text-align: right;\">\n",
       "      <th></th>\n",
       "      <th>image</th>\n",
       "      <th>label</th>\n",
       "    </tr>\n",
       "  </thead>\n",
       "  <tbody>\n",
       "    <tr>\n",
       "      <th>0</th>\n",
       "      <td>[[[27, 81, 110], [94, 165, 195], [30, 85, 117]...</td>\n",
       "      <td>10c</td>\n",
       "    </tr>\n",
       "    <tr>\n",
       "      <th>1</th>\n",
       "      <td>[[[227, 229, 229], [224, 226, 226], [214, 216,...</td>\n",
       "      <td>10c</td>\n",
       "    </tr>\n",
       "    <tr>\n",
       "      <th>2</th>\n",
       "      <td>[[[58, 74, 97], [32, 47, 71], [28, 44, 67], [5...</td>\n",
       "      <td>10c</td>\n",
       "    </tr>\n",
       "    <tr>\n",
       "      <th>3</th>\n",
       "      <td>[[[60, 92, 127], [44, 75, 108], [65, 93, 123],...</td>\n",
       "      <td>10c</td>\n",
       "    </tr>\n",
       "    <tr>\n",
       "      <th>4</th>\n",
       "      <td>[[[63, 71, 126], [53, 65, 121], [61, 76, 136],...</td>\n",
       "      <td>10c</td>\n",
       "    </tr>\n",
       "  </tbody>\n",
       "</table>\n",
       "</div>"
      ],
      "text/plain": [
       "                                               image label\n",
       "0  [[[27, 81, 110], [94, 165, 195], [30, 85, 117]...   10c\n",
       "1  [[[227, 229, 229], [224, 226, 226], [214, 216,...   10c\n",
       "2  [[[58, 74, 97], [32, 47, 71], [28, 44, 67], [5...   10c\n",
       "3  [[[60, 92, 127], [44, 75, 108], [65, 93, 123],...   10c\n",
       "4  [[[63, 71, 126], [53, 65, 121], [61, 76, 136],...   10c"
      ]
     },
     "metadata": {},
     "output_type": "display_data"
    },
    {
     "name": "stdout",
     "output_type": "stream",
     "text": [
      "(2860, 2)\n"
     ]
    }
   ],
   "source": [
    "display(coins.head())\n",
    "print(coins.shape)\n"
   ]
  },
  {
   "cell_type": "code",
   "execution_count": 12,
   "metadata": {},
   "outputs": [
    {
     "data": {
      "text/plain": [
       "(70, 70, 3)"
      ]
     },
     "execution_count": 12,
     "metadata": {},
     "output_type": "execute_result"
    }
   ],
   "source": [
    "coins['image'].iloc[0].shape"
   ]
  },
  {
   "cell_type": "markdown",
   "metadata": {},
   "source": [
    "## Creamos más dfs con los arrays rotados para tener más datos  y los concatenamos al anterior df (coins)"
   ]
  },
  {
   "cell_type": "code",
   "execution_count": 13,
   "metadata": {},
   "outputs": [
    {
     "data": {
      "text/plain": [
       "\"\\n# Rota los arrays x grados\\ndef rotateConcat(coins_original, coins, grados):\\n    coins_gr = pd.DataFrame()\\n    coins_gr['image'] = coins_original['image'].apply(lambda x: rotAndTransfImg(x,grados))\\n    coins_gr = coins_gr.join(coins_original['label'])\\n    coins = pd.concat([coins,coins_gr], ignore_index=True)\\n    print(coins.shape)\\n    return coins\\n\""
      ]
     },
     "execution_count": 13,
     "metadata": {},
     "output_type": "execute_result"
    }
   ],
   "source": [
    "'''\n",
    "# Rota los arrays x grados\n",
    "def rotateConcat(coins_original, coins, grados):\n",
    "    coins_gr = pd.DataFrame()\n",
    "    coins_gr['image'] = coins_original['image'].apply(lambda x: rotAndTransfImg(x,grados))\n",
    "    coins_gr = coins_gr.join(coins_original['label'])\n",
    "    coins = pd.concat([coins,coins_gr], ignore_index=True)\n",
    "    print(coins.shape)\n",
    "    return coins\n",
    "'''"
   ]
  },
  {
   "cell_type": "code",
   "execution_count": null,
   "metadata": {},
   "outputs": [],
   "source": [
    "\n"
   ]
  },
  {
   "cell_type": "code",
   "execution_count": 14,
   "metadata": {},
   "outputs": [
    {
     "name": "stdout",
     "output_type": "stream",
     "text": [
      "['10c' '50c' '20c' '5c' '2c' '1e' '1c' '2e']\n",
      "(2860, 2)\n",
      "5c     385\n",
      "1c     382\n",
      "2c     378\n",
      "50c    355\n",
      "2e     344\n",
      "10c    343\n",
      "20c    342\n",
      "1e     331\n",
      "Name: label, dtype: int64\n"
     ]
    }
   ],
   "source": [
    "\n",
    "print(coins['label'].unique())\n",
    "print(coins.shape)\n",
    "print(coins['label'].value_counts())"
   ]
  },
  {
   "cell_type": "code",
   "execution_count": 15,
   "metadata": {},
   "outputs": [
    {
     "data": {
      "text/plain": [
       "36"
      ]
     },
     "execution_count": 15,
     "metadata": {},
     "output_type": "execute_result"
    }
   ],
   "source": [
    "grados = [e for e in range(1,360,10)]\n",
    "len(grados)"
   ]
  },
  {
   "cell_type": "code",
   "execution_count": 16,
   "metadata": {},
   "outputs": [
    {
     "name": "stdout",
     "output_type": "stream",
     "text": [
      "(5720, 2)\n",
      "(8580, 2)\n",
      "(11440, 2)\n",
      "(14300, 2)\n",
      "(17160, 2)\n",
      "(20020, 2)\n",
      "(22880, 2)\n",
      "(25740, 2)\n",
      "(28600, 2)\n",
      "(31460, 2)\n",
      "(34320, 2)\n",
      "(37180, 2)\n",
      "(40040, 2)\n",
      "(42900, 2)\n",
      "(45760, 2)\n",
      "(48620, 2)\n",
      "(51480, 2)\n",
      "(54340, 2)\n",
      "(57200, 2)\n",
      "(60060, 2)\n",
      "(62920, 2)\n",
      "(65780, 2)\n",
      "(68640, 2)\n",
      "(71500, 2)\n",
      "(74360, 2)\n",
      "(77220, 2)\n",
      "(80080, 2)\n",
      "(82940, 2)\n",
      "(85800, 2)\n",
      "(88660, 2)\n",
      "(91520, 2)\n",
      "(94380, 2)\n",
      "(97240, 2)\n",
      "(100100, 2)\n",
      "(102960, 2)\n",
      "(105820, 2)\n"
     ]
    }
   ],
   "source": [
    "# Aplicamos la fn para rotar y concatenar los arrays al df\n",
    "for grado in grados:\n",
    "    coins = rotateConcat(coins_original, coins, grado)"
   ]
  },
  {
   "cell_type": "code",
   "execution_count": 17,
   "metadata": {},
   "outputs": [],
   "source": [
    "# Comprobamos que todos los arrays sean de 70x70x3\n",
    "for im in coins['image']:\n",
    "    if im.shape != (70, 70, 3):\n",
    "        print('¡ojo!', im.shape)"
   ]
  },
  {
   "cell_type": "code",
   "execution_count": 31,
   "metadata": {},
   "outputs": [],
   "source": [
    "# Guardamos nuestro df en un archivo pickle:\n",
    "\n",
    "coins.to_pickle('./Output/data/coins_arrays_8label.pkl')  "
   ]
  },
  {
   "cell_type": "code",
   "execution_count": 27,
   "metadata": {},
   "outputs": [
    {
     "data": {
      "text/plain": [
       "5c     14245\n",
       "1c     14134\n",
       "2c     13986\n",
       "50c    13135\n",
       "2e     12728\n",
       "10c    12691\n",
       "20c    12654\n",
       "1e     12247\n",
       "Name: label, dtype: int64"
      ]
     },
     "execution_count": 27,
     "metadata": {},
     "output_type": "execute_result"
    }
   ],
   "source": [
    "coins['label'].value_counts()"
   ]
  },
  {
   "cell_type": "code",
   "execution_count": 19,
   "metadata": {},
   "outputs": [],
   "source": [
    "coins_4lab = coins.copy()"
   ]
  },
  {
   "cell_type": "code",
   "execution_count": 20,
   "metadata": {},
   "outputs": [
    {
     "data": {
      "text/plain": [
       "array(['10c', '50c', '20c', '5c', '2c', '1e', '1c', '2e'], dtype=object)"
      ]
     },
     "execution_count": 20,
     "metadata": {},
     "output_type": "execute_result"
    }
   ],
   "source": [
    "coins_4lab['label'].unique()"
   ]
  },
  {
   "cell_type": "code",
   "execution_count": 21,
   "metadata": {},
   "outputs": [],
   "source": [
    "coins_4lab['label'] = coins_4lab['label'].replace({'10c':'au','50c':'au','20c':'au', '1c':'cu','2c':'cu','5c':'cu'})"
   ]
  },
  {
   "cell_type": "code",
   "execution_count": 24,
   "metadata": {},
   "outputs": [
    {
     "data": {
      "text/plain": [
       "array(['au', 'cu', '1e', '2e'], dtype=object)"
      ]
     },
     "execution_count": 24,
     "metadata": {},
     "output_type": "execute_result"
    }
   ],
   "source": [
    "coins_4lab['label'].unique()"
   ]
  },
  {
   "cell_type": "code",
   "execution_count": 25,
   "metadata": {},
   "outputs": [],
   "source": [
    "coins4dumm = pd.get_dummies(coins_4lab['label'])\n",
    "coins4dumm['gt'] = coins4dumm.apply(lambda x: pd.Series([x.values]), axis=1)\n",
    "coins_4labels=coins_4lab.join(coins4dumm)\n"
   ]
  },
  {
   "cell_type": "code",
   "execution_count": 26,
   "metadata": {},
   "outputs": [
    {
     "data": {
      "text/html": [
       "<div>\n",
       "<style scoped>\n",
       "    .dataframe tbody tr th:only-of-type {\n",
       "        vertical-align: middle;\n",
       "    }\n",
       "\n",
       "    .dataframe tbody tr th {\n",
       "        vertical-align: top;\n",
       "    }\n",
       "\n",
       "    .dataframe thead th {\n",
       "        text-align: right;\n",
       "    }\n",
       "</style>\n",
       "<table border=\"1\" class=\"dataframe\">\n",
       "  <thead>\n",
       "    <tr style=\"text-align: right;\">\n",
       "      <th></th>\n",
       "      <th>image</th>\n",
       "      <th>label</th>\n",
       "      <th>1e</th>\n",
       "      <th>2e</th>\n",
       "      <th>au</th>\n",
       "      <th>cu</th>\n",
       "      <th>gt</th>\n",
       "    </tr>\n",
       "  </thead>\n",
       "  <tbody>\n",
       "    <tr>\n",
       "      <th>0</th>\n",
       "      <td>[[[27, 81, 110], [94, 165, 195], [30, 85, 117]...</td>\n",
       "      <td>au</td>\n",
       "      <td>0</td>\n",
       "      <td>0</td>\n",
       "      <td>1</td>\n",
       "      <td>0</td>\n",
       "      <td>[0, 0, 1, 0]</td>\n",
       "    </tr>\n",
       "    <tr>\n",
       "      <th>1</th>\n",
       "      <td>[[[227, 229, 229], [224, 226, 226], [214, 216,...</td>\n",
       "      <td>au</td>\n",
       "      <td>0</td>\n",
       "      <td>0</td>\n",
       "      <td>1</td>\n",
       "      <td>0</td>\n",
       "      <td>[0, 0, 1, 0]</td>\n",
       "    </tr>\n",
       "    <tr>\n",
       "      <th>2</th>\n",
       "      <td>[[[58, 74, 97], [32, 47, 71], [28, 44, 67], [5...</td>\n",
       "      <td>au</td>\n",
       "      <td>0</td>\n",
       "      <td>0</td>\n",
       "      <td>1</td>\n",
       "      <td>0</td>\n",
       "      <td>[0, 0, 1, 0]</td>\n",
       "    </tr>\n",
       "    <tr>\n",
       "      <th>3</th>\n",
       "      <td>[[[60, 92, 127], [44, 75, 108], [65, 93, 123],...</td>\n",
       "      <td>au</td>\n",
       "      <td>0</td>\n",
       "      <td>0</td>\n",
       "      <td>1</td>\n",
       "      <td>0</td>\n",
       "      <td>[0, 0, 1, 0]</td>\n",
       "    </tr>\n",
       "    <tr>\n",
       "      <th>4</th>\n",
       "      <td>[[[63, 71, 126], [53, 65, 121], [61, 76, 136],...</td>\n",
       "      <td>au</td>\n",
       "      <td>0</td>\n",
       "      <td>0</td>\n",
       "      <td>1</td>\n",
       "      <td>0</td>\n",
       "      <td>[0, 0, 1, 0]</td>\n",
       "    </tr>\n",
       "  </tbody>\n",
       "</table>\n",
       "</div>"
      ],
      "text/plain": [
       "                                               image label  1e  2e  au  cu  \\\n",
       "0  [[[27, 81, 110], [94, 165, 195], [30, 85, 117]...    au   0   0   1   0   \n",
       "1  [[[227, 229, 229], [224, 226, 226], [214, 216,...    au   0   0   1   0   \n",
       "2  [[[58, 74, 97], [32, 47, 71], [28, 44, 67], [5...    au   0   0   1   0   \n",
       "3  [[[60, 92, 127], [44, 75, 108], [65, 93, 123],...    au   0   0   1   0   \n",
       "4  [[[63, 71, 126], [53, 65, 121], [61, 76, 136],...    au   0   0   1   0   \n",
       "\n",
       "             gt  \n",
       "0  [0, 0, 1, 0]  \n",
       "1  [0, 0, 1, 0]  \n",
       "2  [0, 0, 1, 0]  \n",
       "3  [0, 0, 1, 0]  \n",
       "4  [0, 0, 1, 0]  "
      ]
     },
     "execution_count": 26,
     "metadata": {},
     "output_type": "execute_result"
    }
   ],
   "source": [
    "coins_4labels.head()"
   ]
  },
  {
   "cell_type": "code",
   "execution_count": null,
   "metadata": {},
   "outputs": [],
   "source": []
  },
  {
   "cell_type": "code",
   "execution_count": 30,
   "metadata": {},
   "outputs": [],
   "source": [
    "coins_4labels.to_pickle('./Output/data/coins_dum_4labels.pkl')"
   ]
  },
  {
   "cell_type": "code",
   "execution_count": null,
   "metadata": {},
   "outputs": [],
   "source": []
  },
  {
   "cell_type": "code",
   "execution_count": null,
   "metadata": {},
   "outputs": [],
   "source": []
  },
  {
   "cell_type": "code",
   "execution_count": null,
   "metadata": {},
   "outputs": [],
   "source": []
  },
  {
   "cell_type": "code",
   "execution_count": null,
   "metadata": {},
   "outputs": [],
   "source": []
  }
 ],
 "metadata": {
  "kernelspec": {
   "display_name": "Python 3",
   "language": "python",
   "name": "python3"
  },
  "language_info": {
   "codemirror_mode": {
    "name": "ipython",
    "version": 3
   },
   "file_extension": ".py",
   "mimetype": "text/x-python",
   "name": "python",
   "nbconvert_exporter": "python",
   "pygments_lexer": "ipython3",
   "version": "3.7.6"
  }
 },
 "nbformat": 4,
 "nbformat_minor": 4
}
